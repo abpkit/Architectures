{
 "cells": [
  {
   "cell_type": "code",
   "execution_count": 1,
   "id": "e73ca5fb",
   "metadata": {},
   "outputs": [],
   "source": [
    "import keras, os"
   ]
  },
  {
   "cell_type": "code",
   "execution_count": 3,
   "id": "a08409d3",
   "metadata": {},
   "outputs": [],
   "source": [
    "from keras.models import Sequential\n",
    "from keras.layers import Conv2D        # For images 2D, for videos 3D\n",
    "from keras.layers import MaxPool2D\n",
    "from keras.layers import Flatten       # To convert 2D arrays into single long linear vector\n",
    "from keras.layers import Dense         # Full connection of neural network\n",
    "from keras.preprocessing.image import ImageDataGenerator     # To rescale, zoom, rotate, flip\n",
    "import numpy as np"
   ]
  },
  {
   "cell_type": "code",
   "execution_count": 4,
   "id": "b1e1ee20",
   "metadata": {},
   "outputs": [
    {
     "name": "stdout",
     "output_type": "stream",
     "text": [
      "Found 1108 images belonging to 2 classes.\n",
      "Found 470 images belonging to 2 classes.\n"
     ]
    }
   ],
   "source": [
    "trdata = ImageDataGenerator()\n",
    "train_data = trdata.flow_from_directory(directory='F:/Netzwerk/Deep Learning/Mask detection/train', target_size = (224,224))\n",
    "tsdata = ImageDataGenerator()\n",
    "test_data = tsdata.flow_from_directory(directory='F:/Netzwerk/Deep Learning/Mask detection/test', target_size = (224,224))"
   ]
  },
  {
   "cell_type": "markdown",
   "id": "1c674998",
   "metadata": {},
   "source": [
    "# Section 2 - VGG"
   ]
  },
  {
   "cell_type": "code",
   "execution_count": null,
   "id": "80a59f76",
   "metadata": {},
   "outputs": [],
   "source": [
    "VGG = keras.applications.VGG16(input_shape=(224,224,3), include_top=False, weights = 'imagenet')\n",
    "VGG.trainable = False   # We dont want to train front 13 layers, we need to train only last 2 layers\n",
    "# We have 1 x Dense layer of 4096 unit\n",
    "# We have 1 x Dense layer of 4096 unit\n",
    "# We have 1 x Dense softmax layer of 2 units"
   ]
  },
  {
   "cell_type": "code",
   "execution_count": null,
   "id": "3742d01b",
   "metadata": {},
   "outputs": [],
   "source": [
    "model = keras.Sequential([\n",
    "    VGG,\n",
    "    keras.layers.flatten(),\n",
    "    keras.layers.Dense(units=256, activation = 'relu'),\n",
    "    keras.layers.Dense(units=256, activation = 'relu'),\n",
    "    keras.layers.Dense(units=2, activation = 'softmax')\n",
    "])"
   ]
  },
  {
   "cell_type": "code",
   "execution_count": null,
   "id": "9fdcb7a4",
   "metadata": {},
   "outputs": [],
   "source": [
    "model.compile(optimizer='adam', loss=keras.losses.categorical_crossentropy, metrics=['accuracy'])"
   ]
  },
  {
   "cell_type": "code",
   "execution_count": null,
   "id": "10db8d4b",
   "metadata": {},
   "outputs": [],
   "source": [
    "model.summary()"
   ]
  },
  {
   "cell_type": "code",
   "execution_count": null,
   "id": "5adbbb37",
   "metadata": {},
   "outputs": [],
   "source": [
    "hist = model.fit_generator(steps_per_epoch=100, \n",
    "                           generator=traindata, validation_data=testdata, validation_steps=10, epochs=5)\n",
    "model.save('vggclg.h5')"
   ]
  },
  {
   "cell_type": "code",
   "execution_count": null,
   "id": "7ffce732",
   "metadata": {},
   "outputs": [],
   "source": [
    "import matplotlib.pyplot as plt\n",
    "plt.plot(hist.history['accuracy'])\n",
    "plt.plot(hist.history['val_accuracy'])\n",
    "plt.plot(hist.history['loss'])\n",
    "plt.plot(hist.history['val_loss'])\n",
    "plt.title('model_accuracy')\n",
    "plt.ylabel('Accuracy')\n",
    "plt.xlabel('Epoch')\n",
    "plt.legend(['Accuracy','Validation accuracy','loss','Validation loss'])\n",
    "plt.show()"
   ]
  },
  {
   "cell_type": "code",
   "execution_count": null,
   "id": "5bf4c1dd",
   "metadata": {},
   "outputs": [],
   "source": []
  }
 ],
 "metadata": {
  "kernelspec": {
   "display_name": "Python 3 (ipykernel)",
   "language": "python",
   "name": "python3"
  },
  "language_info": {
   "codemirror_mode": {
    "name": "ipython",
    "version": 3
   },
   "file_extension": ".py",
   "mimetype": "text/x-python",
   "name": "python",
   "nbconvert_exporter": "python",
   "pygments_lexer": "ipython3",
   "version": "3.8.12"
  }
 },
 "nbformat": 4,
 "nbformat_minor": 5
}
